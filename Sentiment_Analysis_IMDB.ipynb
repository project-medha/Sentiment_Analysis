{
 "cells": [
  {
   "cell_type": "code",
   "execution_count": null,
   "id": "ee0fa6a3",
   "metadata": {},
   "outputs": [],
   "source": [
    "from tensorflow.keras.preprocessing import sequence \n",
    "from tensorflow.keras.models import Sequential \n",
    "from tensorflow.keras.layers import LSTM,Dense,Input,Embedding \n",
    "from tensorflow.keras.datasets import imdb "
   ]
  },
  {
   "cell_type": "code",
   "execution_count": null,
   "id": "f75bad6e",
   "metadata": {},
   "outputs": [],
   "source": [
    "(x_train,y_train),(x_test,y_test)=imdb.load_data(num_words=20000)"
   ]
  },
  {
   "cell_type": "code",
   "execution_count": null,
   "id": "c525b557",
   "metadata": {},
   "outputs": [],
   "source": [
    "print(x_train[9],y_train[9])"
   ]
  },
  {
   "cell_type": "code",
   "execution_count": null,
   "id": "baac5cde",
   "metadata": {},
   "outputs": [],
   "source": [
    "x_train=sequence.pad_sequences(x_train,maxlen=80)\n",
    "x_test=sequence.pad_sequences(x_test,maxlen=80)"
   ]
  },
  {
   "cell_type": "code",
   "execution_count": null,
   "id": "45af4dc4",
   "metadata": {},
   "outputs": [],
   "source": [
    "model = Sequential()\n",
    "model.add(Embedding(20000,128))\n",
    "model.add(LSTM(128,dropout=0.2,recurrent_dropout=0.2))\n",
    "model.add(Dense(1,activation='sigmoid'))\n"
   ]
  },
  {
   "cell_type": "code",
   "execution_count": null,
   "id": "e251be48",
   "metadata": {},
   "outputs": [],
   "source": [
    "model.compile(loss='binary_crossentropy',\n",
    "             optimizer='adam',\n",
    "              metrics = ['accuracy']\n",
    "             )"
   ]
  },
  {
   "cell_type": "code",
   "execution_count": null,
   "id": "d3d7797e",
   "metadata": {},
   "outputs": [],
   "source": [
    "model.fit(x_train,y_train,\n",
    "         batch_size = 32,\n",
    "         epochs=15,\n",
    "          verbose =2,\n",
    "         validation_data=(x_test,y_test))"
   ]
  },
  {
   "cell_type": "code",
   "execution_count": null,
   "id": "1b8e540c",
   "metadata": {},
   "outputs": [],
   "source": [
    "score,accuracy= model.evaluate(x_test,y_test,\n",
    "                               batch_size=32,\n",
    "                               verbose = 2)\n",
    "print('Test Score: ', score)\n",
    "print('Test Accuracy: ',accuracy)"
   ]
  }
 ],
 "metadata": {
  "kernelspec": {
   "display_name": "Python 3 (ipykernel)",
   "language": "python",
   "name": "python3"
  },
  "language_info": {
   "codemirror_mode": {
    "name": "ipython",
    "version": 3
   },
   "file_extension": ".py",
   "mimetype": "text/x-python",
   "name": "python",
   "nbconvert_exporter": "python",
   "pygments_lexer": "ipython3",
   "version": "3.10.9"
  }
 },
 "nbformat": 4,
 "nbformat_minor": 5
}
